{
 "cells": [
  {
   "cell_type": "code",
   "execution_count": 19,
   "id": "c6e8937d-df40-4714-9d17-aee0c7fd8c2d",
   "metadata": {},
   "outputs": [
    {
     "name": "stdout",
     "output_type": "stream",
     "text": [
      "✅ Connected to Ganache successfully!\n"
     ]
    }
   ],
   "source": [
    "from web3 import Web3\n",
    "\n",
    "# Connect to local Ganache blockchain\n",
    "ganache_url = \"http://127.0.0.1:7545\"\n",
    "web3 = Web3(Web3.HTTPProvider(ganache_url))\n",
    "\n",
    "\n",
    "if web3.is_connected():\n",
    "    print(\"✅ Connected to Ganache successfully!\")\n",
    "else:\n",
    "    print(\"❌ Connection failed. Ensure Ganache is running.\")\n"
   ]
  },
  {
   "cell_type": "code",
   "execution_count": 20,
   "id": "99cf29bc-e7ec-48f9-b19a-c4eb5e94878f",
   "metadata": {},
   "outputs": [
    {
     "name": "stdout",
     "output_type": "stream",
     "text": [
      "✅ Connected to Ganache\n",
      "🔍 Getting total records...\n",
      "📦 Total Records Stored: 1\n",
      "\n",
      "📝 Storing new data...\n",
      "✅ Data stored in transaction: ca013d8367316e01676eca8ef8b378857731908977a43014de0d946e46a8e950\n",
      "📦 Updated Total Records: 2\n",
      "\n",
      "📥 Retrieving first record...\n",
      "📄 Record 0:\n",
      "🕒 Timestamp: 1748617770\n",
      "📟 Device ID: device123\n",
      "📊 Data Type (enum index): 0\n",
      "💾 Data Value: 26.5°C\n"
     ]
    }
   ],
   "source": [
    "from web3 import Web3\n",
    "\n",
    "# 1. Connect to Ganache\n",
    "ganache_url = \"http://127.0.0.1:7545\"\n",
    "web3 = Web3(Web3.HTTPProvider(ganache_url))\n",
    "\n",
    "if web3.is_connected():\n",
    "    print(\"✅ Connected to Ganache\")\n",
    "else:\n",
    "    raise Exception(\"❌ Not connected to Ganache\")\n",
    "\n",
    "# 2. Paste your most recent contract address\n",
    "contract_address = web3.to_checksum_address(\"0x1143d8FDC04feB206EACab47888d1786266a2822\")\n",
    "\n",
    "# 3. Paste your full ABI\n",
    "abi = [\n",
    "    {\n",
    "        \"inputs\": [],\n",
    "        \"stateMutability\": \"nonpayable\",\n",
    "        \"type\": \"constructor\"\n",
    "    },\n",
    "    {\n",
    "        \"anonymous\": False,\n",
    "        \"inputs\": [\n",
    "            {\"indexed\": False, \"internalType\": \"uint256\", \"name\": \"timestamp\", \"type\": \"uint256\"},\n",
    "            {\"indexed\": False, \"internalType\": \"string\", \"name\": \"deviceId\", \"type\": \"string\"},\n",
    "            {\"indexed\": False, \"internalType\": \"enum IoTDataStorage.DataType\", \"name\": \"dataType\", \"type\": \"uint8\"},\n",
    "            {\"indexed\": False, \"internalType\": \"string\", \"name\": \"dataValue\", \"type\": \"string\"}\n",
    "        ],\n",
    "        \"name\": \"DataStored\",\n",
    "        \"type\": \"event\"\n",
    "    },\n",
    "    {\n",
    "        \"inputs\": [\n",
    "            {\"internalType\": \"string\", \"name\": \"_deviceId\", \"type\": \"string\"},\n",
    "            {\"internalType\": \"enum IoTDataStorage.DataType\", \"name\": \"_dataType\", \"type\": \"uint8\"},\n",
    "            {\"internalType\": \"string\", \"name\": \"_dataValue\", \"type\": \"string\"}\n",
    "        ],\n",
    "        \"name\": \"storeData\",\n",
    "        \"outputs\": [],\n",
    "        \"stateMutability\": \"nonpayable\",\n",
    "        \"type\": \"function\"\n",
    "    },\n",
    "    {\n",
    "        \"inputs\": [{\"internalType\": \"uint256\", \"name\": \"\", \"type\": \"uint256\"}],\n",
    "        \"name\": \"dataRecords\",\n",
    "        \"outputs\": [\n",
    "            {\"internalType\": \"uint256\", \"name\": \"timestamp\", \"type\": \"uint256\"},\n",
    "            {\"internalType\": \"string\", \"name\": \"deviceId\", \"type\": \"string\"},\n",
    "            {\"internalType\": \"enum IoTDataStorage.DataType\", \"name\": \"dataType\", \"type\": \"uint8\"},\n",
    "            {\"internalType\": \"string\", \"name\": \"dataValue\", \"type\": \"string\"}\n",
    "        ],\n",
    "        \"stateMutability\": \"view\",\n",
    "        \"type\": \"function\"\n",
    "    },\n",
    "    {\n",
    "        \"inputs\": [{\"internalType\": \"uint256\", \"name\": \"index\", \"type\": \"uint256\"}],\n",
    "        \"name\": \"getRecord\",\n",
    "        \"outputs\": [\n",
    "            {\"internalType\": \"uint256\", \"name\": \"\", \"type\": \"uint256\"},\n",
    "            {\"internalType\": \"string\", \"name\": \"\", \"type\": \"string\"},\n",
    "            {\"internalType\": \"enum IoTDataStorage.DataType\", \"name\": \"\", \"type\": \"uint8\"},\n",
    "            {\"internalType\": \"string\", \"name\": \"\", \"type\": \"string\"}\n",
    "        ],\n",
    "        \"stateMutability\": \"view\",\n",
    "        \"type\": \"function\"\n",
    "    },\n",
    "    {\n",
    "        \"inputs\": [],\n",
    "        \"name\": \"getTotalRecords\",\n",
    "        \"outputs\": [{\"internalType\": \"uint256\", \"name\": \"\", \"type\": \"uint256\"}],\n",
    "        \"stateMutability\": \"view\",\n",
    "        \"type\": \"function\"\n",
    "    },\n",
    "    {\n",
    "        \"inputs\": [],\n",
    "        \"name\": \"MAX_ENTRIES\",\n",
    "        \"outputs\": [{\"internalType\": \"uint256\", \"name\": \"\", \"type\": \"uint256\"}],\n",
    "        \"stateMutability\": \"view\",\n",
    "        \"type\": \"function\"\n",
    "    },\n",
    "    {\n",
    "        \"inputs\": [],\n",
    "        \"name\": \"owner\",\n",
    "        \"outputs\": [{\"internalType\": \"address\", \"name\": \"\", \"type\": \"address\"}],\n",
    "        \"stateMutability\": \"view\",\n",
    "        \"type\": \"function\"\n",
    "    }\n",
    "]\n",
    "\n",
    "# 4. Load contract\n",
    "contract = web3.eth.contract(address=contract_address, abi=abi)\n",
    "\n",
    "# 5. Use the first Ganache account\n",
    "web3.eth.default_account = web3.eth.accounts[0]\n",
    "\n",
    "# 6. Check total records\n",
    "print(\"🔍 Getting total records...\")\n",
    "total = contract.functions.getTotalRecords().call()\n",
    "print(f\"📦 Total Records Stored: {total}\")\n",
    "\n",
    "# 7. Store new data\n",
    "print(\"\\n📝 Storing new data...\")\n",
    "tx_hash = contract.functions.storeData(\"device123\", 0, \"26.5°C\").transact()\n",
    "receipt = web3.eth.wait_for_transaction_receipt(tx_hash)\n",
    "print(\"✅ Data stored in transaction:\", receipt.transactionHash.hex())\n",
    "\n",
    "# 8. Re-check total records\n",
    "total = contract.functions.getTotalRecords().call()\n",
    "print(f\"📦 Updated Total Records: {total}\")\n",
    "\n",
    "# 9. Retrieve the newly stored record\n",
    "print(\"\\n📥 Retrieving first record...\")\n",
    "record = contract.functions.getRecord(0).call()\n",
    "\n",
    "print(f\"📄 Record 0:\\n\"\n",
    "      f\"🕒 Timestamp: {record[0]}\\n\"\n",
    "      f\"📟 Device ID: {record[1]}\\n\"\n",
    "      f\"📊 Data Type (enum index): {record[2]}\\n\"\n",
    "      f\"💾 Data Value: {record[3]}\")\n"
   ]
  },
  {
   "cell_type": "code",
   "execution_count": 21,
   "id": "4c1bf233-75b9-4c88-82b4-7ad3298d2f39",
   "metadata": {},
   "outputs": [
    {
     "name": "stdout",
     "output_type": "stream",
     "text": [
      "📦 Total Records Stored: 2\n"
     ]
    }
   ],
   "source": [
    "# Get total number of records\n",
    "total_records = contract.functions.getTotalRecords().call()\n",
    "print(\"📦 Total Records Stored:\", total_records)\n"
   ]
  },
  {
   "cell_type": "code",
   "execution_count": 23,
   "id": "8ac8b10c-ff77-45c7-8be0-1fa00b5428a8",
   "metadata": {},
   "outputs": [
    {
     "name": "stdout",
     "output_type": "stream",
     "text": [
      "✅ Dummy data stored on blockchain!\n"
     ]
    }
   ],
   "source": [
    "txn = contract.functions.storeData(\"TEST001\", 0, \"22.5°C\").transact({\n",
    "    'from': web3.eth.default_account,\n",
    "    'gas': 1000000\n",
    "})\n",
    "web3.eth.wait_for_transaction_receipt(txn)\n",
    "print(\"✅ Dummy data stored on blockchain!\")\n"
   ]
  },
  {
   "cell_type": "code",
   "execution_count": 24,
   "id": "19efdaca-7fdf-4e00-aec0-483f29112ae0",
   "metadata": {},
   "outputs": [
    {
     "name": "stdout",
     "output_type": "stream",
     "text": [
      "Total Records: 4\n",
      "First Stored Record: [1748617770, 'device123', 0, '26.5°C']\n"
     ]
    }
   ],
   "source": [
    "total_records = contract.functions.getTotalRecords().call()\n",
    "print(f\"Total Records: {total_records}\")\n",
    "\n",
    "\n",
    "record = contract.functions.getRecord(0).call()\n",
    "print(\"First Stored Record:\", record)\n"
   ]
  }
 ],
 "metadata": {
  "kernelspec": {
   "display_name": "Python 3 (ipykernel)",
   "language": "python",
   "name": "python3"
  },
  "language_info": {
   "codemirror_mode": {
    "name": "ipython",
    "version": 3
   },
   "file_extension": ".py",
   "mimetype": "text/x-python",
   "name": "python",
   "nbconvert_exporter": "python",
   "pygments_lexer": "ipython3",
   "version": "3.12.4"
  }
 },
 "nbformat": 4,
 "nbformat_minor": 5
}
