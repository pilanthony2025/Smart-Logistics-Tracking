{
 "cells": [
  {
   "cell_type": "markdown",
   "id": "34c1b02d-28f7-4038-85f2-fb2126858103",
   "metadata": {},
   "source": [
    "# Week 6: Data Retrieval and Processing\n",
    "\n",
    "This notebook retrieves all stored IoT records from the smart contract, processes and cleans the data, and saves the output as a CSV for further analysis.\n"
   ]
  },
  {
   "cell_type": "code",
   "execution_count": 14,
   "id": "36d907c2-4cf1-440b-b0be-76c62295b88f",
   "metadata": {},
   "outputs": [
    {
     "name": "stdout",
     "output_type": "stream",
     "text": [
      "✅ Connected to Ganache successfully!\n"
     ]
    }
   ],
   "source": [
    "from web3 import Web3\n",
    "\n",
    "# Connect to local blockchain\n",
    "ganache_url = \"http://127.0.0.1:7545\"\n",
    "web3 = Web3(Web3.HTTPProvider(ganache_url))\n",
    "\n",
    "\n",
    "# Verify connection\n",
    "if web3.is_connected():\n",
    "    print(\"✅ Connected to Ganache successfully!\")\n",
    "else:\n",
    "    print(\"❌ Connection failed. Ensure Ganache is running.\")"
   ]
  },
  {
   "cell_type": "code",
   "execution_count": 15,
   "id": "2e3df02c-86e4-4672-bc9e-1b20ec701f96",
   "metadata": {},
   "outputs": [
    {
     "name": "stdout",
     "output_type": "stream",
     "text": [
      "✅ Connected to Ganache\n",
      "✅ Connected to Smart Contract at 0x8f92A6278ee0eE1489767d7bB20BD9Bb35dC5365\n"
     ]
    }
   ],
   "source": [
    "# Connect to local Ganache blockchain\n",
    "ganache_url = \"http://127.0.0.1:7545\"\n",
    "web3 = Web3(Web3.HTTPProvider(ganache_url))\n",
    "\n",
    "# Check connection\n",
    "if not web3.is_connected():\n",
    "    raise Exception(\"❌ Not connected to Ganache. Make sure it's running.\")\n",
    "\n",
    "print(\"✅ Connected to Ganache\")\n",
    "\n",
    "# Replace with your actual contract address from Remix deployment\n",
    "contract_address = web3.to_checksum_address(\"0x8f92A6278ee0eE1489767d7bB20BD9Bb35dC5365\")\n",
    "\n",
    "# ABI\n",
    "abi =[\n",
    "    {\n",
    "\t\t\"inputs\": [],\n",
    "\t\t\"stateMutability\": \"nonpayable\",\n",
    "\t\t\"type\": \"constructor\"\n",
    "\t},\n",
    "\t{\n",
    "\t\t\"anonymous\": False,\n",
    "\t\t\"inputs\": [\n",
    "\t\t\t{\n",
    "\t\t\t\t\"indexed\": False,\n",
    "\t\t\t\t\"internalType\": \"uint256\",\n",
    "\t\t\t\t\"name\": \"timestamp\",\n",
    "\t\t\t\t\"type\": \"uint256\"\n",
    "\t\t\t},\n",
    "\t\t\t{\n",
    "\t\t\t\t\"indexed\": False,\n",
    "\t\t\t\t\"internalType\": \"string\",\n",
    "\t\t\t\t\"name\": \"deviceId\",\n",
    "\t\t\t\t\"type\": \"string\"\n",
    "\t\t\t},\n",
    "\t\t\t{\n",
    "\t\t\t\t\"indexed\": False,\n",
    "\t\t\t\t\"internalType\": \"enum IoTDataStorage.DataType\",\n",
    "\t\t\t\t\"name\": \"dataType\",\n",
    "\t\t\t\t\"type\": \"uint8\"\n",
    "\t\t\t},\n",
    "\t\t\t{\n",
    "\t\t\t\t\"indexed\": False,\n",
    "\t\t\t\t\"internalType\": \"string\",\n",
    "\t\t\t\t\"name\": \"dataValue\",\n",
    "\t\t\t\t\"type\": \"string\"\n",
    "\t\t\t}\n",
    "\t\t],\n",
    "\t\t\"name\": \"DataStored\",\n",
    "\t\t\"type\": \"event\"\n",
    "\t},\n",
    "\t{\n",
    "\t\t\"inputs\": [\n",
    "\t\t\t{\n",
    "\t\t\t\t\"internalType\": \"string\",\n",
    "\t\t\t\t\"name\": \"_deviceId\",\n",
    "\t\t\t\t\"type\": \"string\"\n",
    "\t\t\t},\n",
    "\t\t\t{\n",
    "\t\t\t\t\"internalType\": \"enum IoTDataStorage.DataType\",\n",
    "\t\t\t\t\"name\": \"_dataType\",\n",
    "\t\t\t\t\"type\": \"uint8\"\n",
    "\t\t\t},\n",
    "\t\t\t{\n",
    "\t\t\t\t\"internalType\": \"string\",\n",
    "\t\t\t\t\"name\": \"_dataValue\",\n",
    "\t\t\t\t\"type\": \"string\"\n",
    "\t\t\t}\n",
    "\t\t],\n",
    "\t\t\"name\": \"storeData\",\n",
    "\t\t\"outputs\": [],\n",
    "\t\t\"stateMutability\": \"nonpayable\",\n",
    "\t\t\"type\": \"function\"\n",
    "\t},\n",
    "\t{\n",
    "\t\t\"inputs\": [\n",
    "\t\t\t{\n",
    "\t\t\t\t\"internalType\": \"uint256\",\n",
    "\t\t\t\t\"name\": \"\",\n",
    "\t\t\t\t\"type\": \"uint256\"\n",
    "\t\t\t}\n",
    "\t\t],\n",
    "\t\t\"name\": \"dataRecords\",\n",
    "\t\t\"outputs\": [\n",
    "\t\t\t{\n",
    "\t\t\t\t\"internalType\": \"uint256\",\n",
    "\t\t\t\t\"name\": \"timestamp\",\n",
    "\t\t\t\t\"type\": \"uint256\"\n",
    "\t\t\t},\n",
    "\t\t\t{\n",
    "\t\t\t\t\"internalType\": \"string\",\n",
    "\t\t\t\t\"name\": \"deviceId\",\n",
    "\t\t\t\t\"type\": \"string\"\n",
    "\t\t\t},\n",
    "\t\t\t{\n",
    "\t\t\t\t\"internalType\": \"enum IoTDataStorage.DataType\",\n",
    "\t\t\t\t\"name\": \"dataType\",\n",
    "\t\t\t\t\"type\": \"uint8\"\n",
    "\t\t\t},\n",
    "\t\t\t{\n",
    "\t\t\t\t\"internalType\": \"string\",\n",
    "\t\t\t\t\"name\": \"dataValue\",\n",
    "\t\t\t\t\"type\": \"string\"\n",
    "\t\t\t}\n",
    "\t\t],\n",
    "\t\t\"stateMutability\": \"view\",\n",
    "\t\t\"type\": \"function\"\n",
    "\t},\n",
    "\t{\n",
    "\t\t\"inputs\": [\n",
    "\t\t\t{\n",
    "\t\t\t\t\"internalType\": \"uint256\",\n",
    "\t\t\t\t\"name\": \"index\",\n",
    "\t\t\t\t\"type\": \"uint256\"\n",
    "\t\t\t}\n",
    "\t\t],\n",
    "\t\t\"name\": \"getRecord\",\n",
    "\t\t\"outputs\": [\n",
    "\t\t\t{\n",
    "\t\t\t\t\"internalType\": \"uint256\",\n",
    "\t\t\t\t\"name\": \"\",\n",
    "\t\t\t\t\"type\": \"uint256\"\n",
    "\t\t\t},\n",
    "\t\t\t{\n",
    "\t\t\t\t\"internalType\": \"string\",\n",
    "\t\t\t\t\"name\": \"\",\n",
    "\t\t\t\t\"type\": \"string\"\n",
    "\t\t\t},\n",
    "\t\t\t{\n",
    "\t\t\t\t\"internalType\": \"enum IoTDataStorage.DataType\",\n",
    "\t\t\t\t\"name\": \"\",\n",
    "\t\t\t\t\"type\": \"uint8\"\n",
    "\t\t\t},\n",
    "\t\t\t{\n",
    "\t\t\t\t\"internalType\": \"string\",\n",
    "\t\t\t\t\"name\": \"\",\n",
    "\t\t\t\t\"type\": \"string\"\n",
    "\t\t\t}\n",
    "\t\t],\n",
    "\t\t\"stateMutability\": \"view\",\n",
    "\t\t\"type\": \"function\"\n",
    "\t},\n",
    "\t{\n",
    "\t\t\"inputs\": [],\n",
    "\t\t\"name\": \"getTotalRecords\",\n",
    "\t\t\"outputs\": [\n",
    "\t\t\t{\n",
    "\t\t\t\t\"internalType\": \"uint256\",\n",
    "\t\t\t\t\"name\": \"\",\n",
    "\t\t\t\t\"type\": \"uint256\"\n",
    "\t\t\t}\n",
    "\t\t],\n",
    "\t\t\"stateMutability\": \"view\",\n",
    "\t\t\"type\": \"function\"\n",
    "\t},\n",
    "\t{\n",
    "\t\t\"inputs\": [],\n",
    "\t\t\"name\": \"MAX_ENTRIES\",\n",
    "\t\t\"outputs\": [\n",
    "\t\t\t{\n",
    "\t\t\t\t\"internalType\": \"uint256\",\n",
    "\t\t\t\t\"name\": \"\",\n",
    "\t\t\t\t\"type\": \"uint256\"\n",
    "\t\t\t}\n",
    "\t\t],\n",
    "\t\t\"stateMutability\": \"view\",\n",
    "\t\t\"type\": \"function\"\n",
    "\t},\n",
    "\t{\n",
    "\t\t\"inputs\": [],\n",
    "\t\t\"name\": \"owner\",\n",
    "\t\t\"outputs\": [\n",
    "\t\t\t{\n",
    "\t\t\t\t\"internalType\": \"address\",\n",
    "\t\t\t\t\"name\": \"\",\n",
    "\t\t\t\t\"type\": \"address\"\n",
    "\t\t\t}\n",
    "\t\t],\n",
    "\t\t\"stateMutability\": \"view\",\n",
    "\t\t\"type\": \"function\"\n",
    "\t}\n",
    "]\n",
    "# Load the contract\n",
    "contract = web3.eth.contract(address=contract_address, abi=abi)\n",
    "\n",
    "# Set the default sender address (typically the first Ganache account)\n",
    "web3.eth.default_account = web3.eth.accounts[0]\n",
    "\n",
    "print(f\"✅ Connected to Smart Contract at {contract_address}\")\n"
   ]
  },
  {
   "cell_type": "code",
   "execution_count": 16,
   "id": "dc652468-a646-4aed-87d6-44ab33f28efa",
   "metadata": {},
   "outputs": [
    {
     "name": "stdout",
     "output_type": "stream",
     "text": [
      "Total IoT records stored: 105\n"
     ]
    }
   ],
   "source": [
    "total_records = contract.functions.getTotalRecords().call()\n",
    "print(f\"Total IoT records stored: {total_records}\")\n"
   ]
  },
  {
   "cell_type": "code",
   "execution_count": 17,
   "id": "c7e6fb77-1b67-4dae-bb15-bcce5b5ee3a9",
   "metadata": {},
   "outputs": [],
   "source": [
    "import pandas as pd\n",
    "\n",
    "\n",
    "# Retrieve all IoT records\n",
    "data = []\n",
    "for i in range(total_records):\n",
    "    record = contract.functions.getRecord(i).call()\n",
    "    data.append({\n",
    "        \"timestamp\": record[0],\n",
    "        \"device_id\": record[1],\n",
    "        \"data_type\": record[2],\n",
    "        \"data_value\": record[3]\n",
    "    })\n"
   ]
  },
  {
   "cell_type": "code",
   "execution_count": 18,
   "id": "9bd0b5e0-60e7-46b4-a850-448b62de327c",
   "metadata": {},
   "outputs": [],
   "source": [
    "# Convert to a DataFrame\n",
    "df = pd.DataFrame(data)"
   ]
  },
  {
   "cell_type": "code",
   "execution_count": 19,
   "id": "576b02a8-27e8-43a8-97f4-fe195e0e0fe9",
   "metadata": {},
   "outputs": [],
   "source": [
    "# Convert timestamp to readable format\n",
    "df[\"timestamp\"] = pd.to_datetime(df[\"timestamp\"], unit=\"s\")"
   ]
  },
  {
   "cell_type": "code",
   "execution_count": 21,
   "id": "f4153f15-14da-4cfe-8827-9892d737a5fc",
   "metadata": {},
   "outputs": [
    {
     "name": "stdout",
     "output_type": "stream",
     "text": [
      "📦 Raw data preview:\n",
      "            timestamp  device_id  data_type data_value\n",
      "0 2025-06-09 05:47:24  device123          0     26.5°C\n",
      "1 2025-06-09 05:47:35    TEST001          0     22.5°C\n",
      "2 2025-06-09 05:49:30    PKG8095          0     8.61°C\n",
      "3 2025-06-09 05:49:31    PKG7668          0     5.23°C\n",
      "4 2025-06-09 05:49:32    PKG6401          0     8.59°C\n"
     ]
    }
   ],
   "source": [
    "# Display first few records\n",
    "print(\"📦 Raw data preview:\")\n",
    "print(df.head())"
   ]
  },
  {
   "cell_type": "code",
   "execution_count": 22,
   "id": "00be15bd-54ff-4ccc-9c66-7c76722f5ac1",
   "metadata": {},
   "outputs": [],
   "source": [
    "# Extract numeric values from 'data_value' (e.g., \"22.5°C\" → 22.5)\n",
    "df[\"numeric_value\"] = df[\"data_value\"].str.extract(r'(\\d+\\.?\\d*)').astype(float)"
   ]
  },
  {
   "cell_type": "code",
   "execution_count": 23,
   "id": "6f8b62b1-facc-4452-9af9-c8371c47a35f",
   "metadata": {},
   "outputs": [],
   "source": [
    "# Handle missing values (fill with 0)\n",
    "df.fillna(0, inplace=True)"
   ]
  },
  {
   "cell_type": "code",
   "execution_count": 24,
   "id": "3f3eee81-7432-4727-911b-c916f75385b3",
   "metadata": {},
   "outputs": [
    {
     "name": "stdout",
     "output_type": "stream",
     "text": [
      "🧼 Cleaned data preview:\n",
      "            timestamp  device_id  data_type data_value  numeric_value\n",
      "0 2025-06-09 05:47:24  device123          0     26.5°C          26.50\n",
      "1 2025-06-09 05:47:35    TEST001          0     22.5°C          22.50\n",
      "2 2025-06-09 05:49:30    PKG8095          0     8.61°C           8.61\n",
      "3 2025-06-09 05:49:31    PKG7668          0     5.23°C           5.23\n",
      "4 2025-06-09 05:49:32    PKG6401          0     8.59°C           8.59\n"
     ]
    }
   ],
   "source": [
    "# Preview cleaned data\n",
    "print(\"🧼 Cleaned data preview:\")\n",
    "print(df.head())"
   ]
  },
  {
   "cell_type": "code",
   "execution_count": 25,
   "id": "566887da-122f-4280-9368-7955091202a3",
   "metadata": {},
   "outputs": [
    {
     "name": "stdout",
     "output_type": "stream",
     "text": [
      "✅ Cleaned IoT data saved successfully as cleaned_iot_data.csv\n"
     ]
    }
   ],
   "source": [
    "# Save the cleaned DataFrame to a CSV file\n",
    "df.to_csv(\"cleaned_iot_data.csv\", index=False)\n",
    "print(\"✅ Cleaned IoT data saved successfully as cleaned_iot_data.csv\")"
   ]
  }
 ],
 "metadata": {
  "kernelspec": {
   "display_name": "Python 3 (ipykernel)",
   "language": "python",
   "name": "python3"
  },
  "language_info": {
   "codemirror_mode": {
    "name": "ipython",
    "version": 3
   },
   "file_extension": ".py",
   "mimetype": "text/x-python",
   "name": "python",
   "nbconvert_exporter": "python",
   "pygments_lexer": "ipython3",
   "version": "3.12.4"
  }
 },
 "nbformat": 4,
 "nbformat_minor": 5
}
